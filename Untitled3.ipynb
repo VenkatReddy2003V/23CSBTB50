{
  "nbformat": 4,
  "nbformat_minor": 0,
  "metadata": {
    "colab": {
      "provenance": [],
      "authorship_tag": "ABX9TyMlJ4bKCJ8FQqNoThQ1OlKy",
      "include_colab_link": true
    },
    "kernelspec": {
      "name": "python3",
      "display_name": "Python 3"
    },
    "language_info": {
      "name": "python"
    }
  },
  "cells": [
    {
      "cell_type": "markdown",
      "metadata": {
        "id": "view-in-github",
        "colab_type": "text"
      },
      "source": [
        "<a href=\"https://colab.research.google.com/github/VenkatReddy2003V/23CSBTB50/blob/main/Untitled3.ipynb\" target=\"_parent\"><img src=\"https://colab.research.google.com/assets/colab-badge.svg\" alt=\"Open In Colab\"/></a>"
      ]
    },
    {
      "cell_type": "code",
      "execution_count": 3,
      "metadata": {
        "colab": {
          "base_uri": "https://localhost:8080/"
        },
        "id": "4dTE6TTgG1A8",
        "outputId": "7bb8bcae-d48b-4db2-d6c7-4733284d3482"
      },
      "outputs": [
        {
          "output_type": "stream",
          "name": "stdout",
          "text": [
            "The adjacency List representing the graph is:\n",
            "{0: [1, 2, 3], 1: [0, 2], 2: [1, 3, 5], 3: [0, 2, 4], 4: [3, 5, 7], 5: [2, 4, 6, 7], 6: [5, 7], 7: []}\n",
            "\n",
            "BFS traversal of graph with source 1 is:\n",
            "1 --> 0 --> 2 --> 3 --> 5 --> 4 --> 6 --> 7 --> "
          ]
        }
      ],
      "source": [
        "from queue import Queue\n",
        "\n",
        "graph = {\n",
        "    0: [1, 2, 3],\n",
        "    1: [0, 2],\n",
        "    2: [1, 3, 5],\n",
        "    3: [0, 2, 4],\n",
        "    4: [3, 5, 7],\n",
        "    5: [2, 4, 6, 7],\n",
        "    6: [5, 7],\n",
        "    7: []\n",
        "}\n",
        "\n",
        "print(\"The adjacency List representing the graph is:\")\n",
        "print(graph)\n",
        "\n",
        "def bfs(graph, source):\n",
        "    Q = Queue()\n",
        "    visited_vertices = set()\n",
        "    Q.put(source)\n",
        "    visited_vertices.add(source)\n",
        "\n",
        "    while not Q.empty():\n",
        "        vertex = Q.get()\n",
        "        print(vertex, end=\" --> \")\n",
        "        for u in graph[vertex]:\n",
        "            if u not in visited_vertices:\n",
        "                Q.put(u)\n",
        "                visited_vertices.add(u)\n",
        "\n",
        "print(\"\\nBFS traversal of graph with source 1 is:\")\n",
        "bfs(graph, 1)\n"
      ]
    },
    {
      "cell_type": "code",
      "source": [
        "graph1 = {\n",
        "    'A': ['B', 'C', 'G'],\n",
        "    'B': ['A'],\n",
        "    'C': ['A', 'D', 'F'],\n",
        "    'D': ['A', 'C', 'E', 'H'],\n",
        "    'E': ['D', 'H', 'F'],\n",
        "    'F': ['C', 'E'],\n",
        "    'G': ['A', 'D', 'H'],\n",
        "    'H': ['D', 'E', 'G']\n",
        "}\n",
        "\n",
        "def dfs(graph, node, visited):\n",
        "    if node not in visited:\n",
        "        visited.append(node)\n",
        "        for k in graph[node]:\n",
        "            dfs(graph, k, visited)\n",
        "    return visited\n",
        "\n",
        "visited = dfs(graph1, 'B', [])\n",
        "print(visited)\n"
      ],
      "metadata": {
        "colab": {
          "base_uri": "https://localhost:8080/"
        },
        "id": "gUCztqj2HcaV",
        "outputId": "b3e8d825-fe6b-4218-fa02-d5680c4afdf5"
      },
      "execution_count": 4,
      "outputs": [
        {
          "output_type": "stream",
          "name": "stdout",
          "text": [
            "['B', 'A', 'C', 'D', 'E', 'H', 'G', 'F']\n"
          ]
        }
      ]
    },
    {
      "cell_type": "code",
      "source": [
        "import numpy as np\n",
        "\n",
        "def bestsolution(state):\n",
        "    # Initialize an empty array with the shape (-1, 9)\n",
        "    bestsol = np.array([]).reshape(-1, 9)\n",
        "    count = len(state) - 1\n",
        "\n",
        "    # Reconstruct the path from the end state to the start\n",
        "    while count != -1:\n",
        "        # Insert the puzzle state at the beginning of the bestsol array\n",
        "        bestsol = np.insert(bestsol, 0, state[count]['puzzle'], axis=0)\n",
        "        # Move to the parent state\n",
        "        count = state[count]['parent']\n",
        "\n",
        "    # Reshape the result to a 3x3 grid if needed\n",
        "    return bestsol.reshape(-1, 3, 3)\n",
        "\n",
        "# Example usage (assuming you have a proper 'state' structure):\n",
        "# state = [\n",
        "#     {'puzzle': np.array([1, 2, 3, 4, 5, 6, 7, 8, 0]), 'parent': -1},\n",
        "#     {'puzzle': np.array([1, 2, 3, 4, 5, 6, 7, 0, 8]), 'parent': 0},\n",
        "#     ...\n",
        "# ]\n",
        "# print(bestsolution(state))\n"
      ],
      "metadata": {
        "id": "Xw0QBxY6H2VI"
      },
      "execution_count": 5,
      "outputs": []
    },
    {
      "cell_type": "code",
      "source": [
        "import numpy as np\n",
        "\n",
        "def is_unique(checkarray, array_list):\n",
        "    \"\"\"\n",
        "    Checks if checkarray is unique in the array_list.\n",
        "\n",
        "    Parameters:\n",
        "    - checkarray: The array to check for uniqueness.\n",
        "    - array_list: A list of arrays to check against.\n",
        "\n",
        "    Returns:\n",
        "    - True if checkarray is unique in array_list.\n",
        "    - False otherwise.\n",
        "    \"\"\"\n",
        "    for existing_array in array_list:\n",
        "        if np.array_equal(checkarray, existing_array):\n",
        "            return False\n",
        "    return True\n",
        "\n",
        "# Example usage:\n",
        "# Define some arrays\n",
        "array1 = np.array([1, 2, 3])\n",
        "array2 = np.array([4, 5, 6])\n",
        "array3 = np.array([1, 2, 3])  # Duplicate of array1\n",
        "\n",
        "# List of\n"
      ],
      "metadata": {
        "id": "iUAACCtMH8pC"
      },
      "execution_count": 6,
      "outputs": []
    },
    {
      "cell_type": "code",
      "source": [
        "import numpy as np\n",
        "\n",
        "def misplaced_tiles(puzzle, goal):\n",
        "    \"\"\"\n",
        "    Calculate the number of misplaced tiles in the puzzle compared to the goal.\n",
        "\n",
        "    Parameters:\n",
        "    - puzzle: The current state of the puzzle as a NumPy array.\n",
        "    - goal: The goal state of the puzzle as a NumPy array.\n",
        "\n",
        "    Returns:\n",
        "    - The number of misplaced tiles.\n",
        "    \"\"\"\n",
        "    # Ensure that both arrays have the same shape\n",
        "    if puzzle.shape != goal.shape:\n",
        "        raise ValueError(\"Puzzle and goal must have the same shape\")\n",
        "\n",
        "    # Calculate the number of misplaced tiles\n",
        "    mscost = np.sum(puzzle != goal)\n",
        "\n",
        "    return mscost\n",
        "\n"
      ],
      "metadata": {
        "id": "L0VzUCXUIFOr"
      },
      "execution_count": 9,
      "outputs": []
    },
    {
      "cell_type": "code",
      "source": [
        "import numpy as np\n",
        "from copy import deepcopy\n",
        "import time\n",
        "\n",
        "# Define the coordinates function to get the positions of tiles in the goal state\n",
        "def coordinates(state):\n",
        "    return {value: index for index, value in enumerate(state)}\n",
        "\n",
        "# Define the evaluation of misplaced tiles\n",
        "def misplaced_tiles(puzzle, goal):\n",
        "    return np.sum(puzzle != goal)\n",
        "\n",
        "def bestsolution(state):\n",
        "    bestsol = np.array([], int).reshape(-1, 9)\n",
        "    count = len(state) - 1\n",
        "    while count != -1:\n",
        "        bestsol = np.insert(bestsol, 0, state[count]['puzzle'], axis=0)\n",
        "        count = state[count]['parent']\n",
        "    return bestsol.reshape(-1, 3, 3)\n",
        "\n",
        "def evaluvate_misplaced(puzzle, goal):\n",
        "    steps = np.array([\n",
        "        ('up', [0, 1, 2], -3),\n",
        "        ('down', [6, 7, 8], 3),\n",
        "        ('left', [0, 3, 6], -1),\n",
        "        ('right', [2, 5, 8], 1)\n",
        "    ], dtype=[('move', 'U10'), ('position', list), ('head', int)])\n",
        "\n",
        "    dtstate = [('puzzle', object), ('parent', int), ('gn', int), ('hn', int)]\n",
        "    costg = coordinates(goal)\n",
        "\n",
        "    # Initialize the state\n",
        "    parent = -1\n",
        "    gn = 0\n",
        "\n"
      ],
      "metadata": {
        "id": "xq8BYEEaIWe-"
      },
      "execution_count": 18,
      "outputs": []
    }
  ]
}