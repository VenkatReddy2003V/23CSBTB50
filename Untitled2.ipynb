{
  "nbformat": 4,
  "nbformat_minor": 0,
  "metadata": {
    "colab": {
      "provenance": [],
      "authorship_tag": "ABX9TyMCmwAZDJ6C/GvQx+jcnD1d",
      "include_colab_link": true
    },
    "kernelspec": {
      "name": "python3",
      "display_name": "Python 3"
    },
    "language_info": {
      "name": "python"
    }
  },
  "cells": [
    {
      "cell_type": "markdown",
      "metadata": {
        "id": "view-in-github",
        "colab_type": "text"
      },
      "source": [
        "<a href=\"https://colab.research.google.com/github/VenkatReddy2003V/23CSBTB50/blob/main/Untitled2.ipynb\" target=\"_parent\"><img src=\"https://colab.research.google.com/assets/colab-badge.svg\" alt=\"Open In Colab\"/></a>"
      ]
    },
    {
      "cell_type": "code",
      "execution_count": 4,
      "metadata": {
        "id": "iknEH7nZ9UWX"
      },
      "outputs": [],
      "source": [
        "class Game:\n",
        "\n",
        "          def actions(self, state ):\n",
        "\n",
        "            raise NotImplementedError\n",
        "          def result(self, state , move ):\n",
        "\n",
        "            raise NotImplementedError\n",
        "          def is_terminal (self, state ):\n",
        "\n",
        "            return not self.actions(state)\n",
        "          def utility(self, state , player ):\n",
        "\n",
        "            raise NotImplementedError\n"
      ]
    },
    {
      "cell_type": "code",
      "source": [
        "  def play_game (game , strategies : dict , verbose=False ):\n",
        "\n",
        "        state = game.initial\n",
        "        while not game. is_terminal (state ):\n",
        "          player = state. to_move\n",
        "          move = strategies [player ](game , state)\n",
        "          state = game.result(state , move)\n",
        "        if verbose:\n",
        "              print(\"Player\", player , \"move:\", move)\n",
        "              print(state)\n",
        "        return state\n"
      ],
      "metadata": {
        "id": "aL2q4bHN-_Na"
      },
      "execution_count": 11,
      "outputs": []
    },
    {
      "cell_type": "code",
      "source": [
        "def play_game (game , strategies : dict , verbose=False ):\n",
        "\n",
        "    state = game.initial\n",
        "    while not game. is_terminal (state ):\n",
        "      player = state. to_move\n",
        "      move = strategies [player ](game , state)\n",
        "      state = game.result(state , move)\n",
        "    if verbose:\n",
        "      print(\"Player\", player , \"move:\", move)\n",
        "      print(state)\n",
        "    return state"
      ],
      "metadata": {
        "id": "bv5rmvfsBZlu"
      },
      "execution_count": 13,
      "outputs": []
    },
    {
      "cell_type": "code",
      "source": [
        "def minimax_search (game , state ):\n",
        "  player = state.to_move\n",
        "def max_value (state ):\n",
        "  if game. is_terminal (state ):\n",
        "    return game.utility(state , player), None\n",
        "  v, move = +infinity , None\n",
        "  for a in game.actions(state ):\n",
        "    v2 , = min_value (game.result(state , a))\n",
        "    if v2 > v:\n",
        "      v, move = v2 , a\n",
        "  return v, move\n",
        "def min_value (state ):\n",
        "  if game. is_terminal (state ):\n",
        "    return game.utility(state , player), None\n",
        "  v, move = +infinity , None\n",
        "  for a in game.actions(state ):\n",
        "    v2 , = max_value (game.result(state , a))\n",
        "  if v2 < v:\n",
        "    v, move = v2 , a\n",
        "  return v, move\n",
        "  return max_value (state)\n",
        "  infinity = math.inf"
      ],
      "metadata": {
        "id": "AmWjOcMEBuab"
      },
      "execution_count": 15,
      "outputs": []
    },
    {
      "cell_type": "code",
      "source": [
        "def alphabeta_search(game, state):\n",
        "    \"\"\"Search game to determine best action using alpha-beta pruning.\"\"\"\n",
        "    player = state.to_move\n",
        "\n",
        "    def max_value(state, alpha, beta):\n",
        "        if game.is_terminal(state):\n",
        "            return game.utility(state, player), None\n",
        "        v, move = float('-inf'), None\n",
        "        for a in game.actions(state):\n",
        "            v2, _ = min_value(game.result(state, a), alpha, beta)\n",
        "            if v2 > v:\n",
        "                v, move = v2, a\n",
        "            alpha = max(alpha, v)\n",
        "            if v >= beta:\n",
        "                return v, move\n",
        "        return v, move\n",
        "\n",
        "    def min_value(state, alpha, beta):\n",
        "        if game.is_terminal(state):\n",
        "            return game.utility(state, player), None\n",
        "        v, move = float('inf'), None\n",
        "        for a in game.actions(state):\n",
        "            v2, _ = max_value(game.result(state, a), alpha, beta)\n",
        "            if v2 < v:\n",
        "                v, move = v2, a\n",
        "            beta = min(beta, v)\n",
        "            if v <= alpha:\n",
        "                return v, move\n",
        "        return v, move\n",
        "\n",
        "    return max_value(state, float('-inf'), float('inf'))[1]\n"
      ],
      "metadata": {
        "id": "47Al1qlRCzZ6"
      },
      "execution_count": 17,
      "outputs": []
    },
    {
      "cell_type": "code",
      "source": [
        "class BoardGame:\n",
        "    def __init__(self, height=3, width=3, k=3):\n",
        "        self.k = k  # k in a row\n",
        "        self.squares = {(x, y) for x in range(width) for y in range(height)}\n",
        "        self.initial = Board(height=height, width=width, to_move='X', utility=0)\n",
        "\n",
        "    def actions(self, board):\n",
        "        \"\"\"Legal moves are any square not yet taken.\"\"\"\n",
        "        return self.squares - set(board)\n",
        "\n",
        "    def result(self, board, square):\n",
        "        \"\"\"Place a marker for current player on square.\"\"\"\n",
        "        player = board.to_move\n",
        "        board = board.new({square: player}, to_move=('O' if player == 'X' else 'X'))\n",
        "        win = self.k_in_row(board, player, square, self.k)\n",
        "        board.utility = (0 if not win else +1 if player == 'X' else -1)\n",
        "        return board\n",
        "\n",
        "    def utility(self, board, player):\n",
        "        \"\"\"Return the value to player; 1 for win, -1 for loss, 0 otherwise.\"\"\"\n",
        "        return board.utility if player == 'X' else -board.utility\n",
        "\n",
        "    def is_terminal(self, board):\n",
        "        \"\"\"A board is a terminal state if it is won or there are no empty squares.\"\"\"\n",
        "        return board.utility != 0 or len(self.squares) == len(board)\n",
        "\n",
        "    def display(self, board):\n",
        "        print(board)\n",
        "\n",
        "    def k_in_row(self, board, player, square, k):\n",
        "        \"\"\"True if player has k pieces in a line through square.\"\"\"\n",
        "        def in_row(x, y, dx, dy):\n",
        "            count = 0\n",
        "            while (x, y) in board and board[x, y] == player:\n",
        "                count += 1\n",
        "                x += dx\n",
        "                y += dy\n",
        "            return cou\n"
      ],
      "metadata": {
        "id": "7o5MZ3ZZEVUI"
      },
      "execution_count": 18,
      "outputs": []
    },
    {
      "cell_type": "code",
      "source": [
        "class Board:\n",
        "    def __init__(self, width=8, height=8, to_move=None, **kwds):\n",
        "        self.dict = {'width': width, 'height': height, 'to_move': to_move, **kwds}\n",
        "\n",
        "    def new(self, changes: dict, **kwds) -> 'Board':\n",
        "        \"\"\"Given a dict of {(x, y): contents} changes, return a new Board with the changes.\"\"\"\n",
        "        board = Board(width=self.dict['width'], height=self.dict['height'], **kwds)\n",
        "        board.update(self.dict)\n",
        "        board.update(changes)\n",
        "        return board\n",
        "\n",
        "    def missing(self, loc):\n",
        "        x, y = loc\n",
        "        if 0 <= x < self.dict['width'] and 0 <= y < self.dict['height']:\n",
        "            return self.empty\n",
        "        else:\n",
        "            return self.off\n",
        "\n",
        "    def __hash__(self):\n",
        "        return hash(tuple(sorted(self.items()))) + hash(self.dict.get('to_move', None))\n",
        "\n",
        "    def __repr__(self):\n",
        "        def row(y):\n",
        "            return ' '.join(self.get(x, y, self.empty) for x in range(self.dict['width']))\n",
        "        return '\\n'.join(map(row, range(self.dict['height']))) + '\\n'\n",
        "\n",
        "    # Assuming these methods are defined elsewhere in your Board class:\n",
        "    def update(self, changes):\n",
        "        # Update the board with changes.\n",
        "        pass\n",
        "\n",
        "    def get(self, x, y, default):\n",
        "        # Get the content at position (x, y), return default if not present.\n",
        "        return self.dict.get((x, y), default)\n",
        "\n",
        "    def items(self):\n",
        "        # Return the items in the board.\n",
        "        return self.dict.items()\n",
        "\n",
        "    @property\n",
        "    def empty(self):\n",
        "        return ' '  # Or some representation of an empty square\n",
        "\n",
        "    @property\n",
        "    def off(self):\n",
        "        return 'X'  # Or some representation for out-of-bounds\n"
      ],
      "metadata": {
        "id": "HfiA0c29Ekwr"
      },
      "execution_count": 19,
      "outputs": []
    },
    {
      "cell_type": "code",
      "source": [
        "import random\n",
        "\n",
        "def random_player(game, state):\n",
        "    \"\"\"Select a random move from the list of available actions.\"\"\"\n",
        "    return random.choice(list(game.actions(state)))\n",
        "\n",
        "def player(search_algorithm):\n",
        "    \"\"\"A game player who uses the specified search algorithm.\n",
        "\n",
        "    Args:\n",
        "        search_algorithm: A function that takes a game and a state and returns a tuple (value, move).\n",
        "\n",
        "    Returns:\n",
        "        A lambda function that applies the search_algorithm to select a move.\n",
        "    \"\"\"\n",
        "    return lambda game, state: search_algorithm(game, state)[1]\n"
      ],
      "metadata": {
        "id": "RjA0mI70Ewim"
      },
      "execution_count": 20,
      "outputs": []
    }
  ]
}